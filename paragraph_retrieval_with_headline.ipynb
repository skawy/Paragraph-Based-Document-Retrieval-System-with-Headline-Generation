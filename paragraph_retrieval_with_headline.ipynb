{
  "cells": [
    {
      "cell_type": "code",
      "execution_count": null,
      "metadata": {
        "id": "yUJBa6K9t6Vv"
      },
      "outputs": [],
      "source": [
        "# !pip install python-docx\n",
        "# !pip install pdfminer.six\n",
        "# !pip install openai\n",
        "# !pip install typing-extensions\n"
      ]
    },
    {
      "cell_type": "code",
      "execution_count": 2,
      "metadata": {
        "id": "V82oFsYjtvmM"
      },
      "outputs": [],
      "source": [
        "from docx import Document\n",
        "from pdfminer.high_level import extract_pages\n",
        "from pdfminer.layout import LTTextContainer"
      ]
    },
    {
      "cell_type": "code",
      "execution_count": 3,
      "metadata": {
        "colab": {
          "base_uri": "https://localhost:8080/"
        },
        "id": "mqPiBypLtf7D",
        "outputId": "c8ec0a29-b8e9-4b1d-a24e-12ba67c68c6e"
      },
      "outputs": [
        {
          "name": "stderr",
          "output_type": "stream",
          "text": [
            "[nltk_data] Downloading package punkt to /root/nltk_data...\n",
            "[nltk_data]   Unzipping tokenizers/punkt.zip.\n"
          ]
        },
        {
          "data": {
            "text/plain": [
              "True"
            ]
          },
          "execution_count": 3,
          "metadata": {},
          "output_type": "execute_result"
        }
      ],
      "source": [
        "import nltk\n",
        "from nltk.tokenize import sent_tokenize\n",
        "from transformers import BertTokenizer, BertModel\n",
        "from sklearn.metrics.pairwise import cosine_similarity\n",
        "import pandas as pd\n",
        "\n",
        "nltk.download('punkt')  # Download the Punkt tokenizer for sentence splitting"
      ]
    },
    {
      "cell_type": "code",
      "execution_count": 4,
      "metadata": {
        "id": "IEMBthOstl7V"
      },
      "outputs": [],
      "source": [
        "import os\n",
        "import pandas as pd\n",
        "\n",
        "import openai\n",
        "import time\n",
        "# Set your OpenAI API key\n",
        "os.environ[\"OPENAI_API_KEY\"] = '********************'\n"
      ]
    },
    {
      "cell_type": "markdown",
      "metadata": {
        "id": "hntagdGvx0mS"
      },
      "source": [
        "## Managing Documents In Various Formats.\n"
      ]
    },
    {
      "cell_type": "code",
      "execution_count": 21,
      "metadata": {
        "id": "WSmYvULOt110"
      },
      "outputs": [],
      "source": [
        "def read_pdf(file_path) :\n",
        "    pdf_text = []\n",
        "\n",
        "    for page in extract_pages(file_path):\n",
        "        page_elements = [(element.y1, element) for element in page._objs]\n",
        "        page_elements.sort(key=lambda a: a[0], reverse=True)\n",
        "        for _ , element in page_elements:\n",
        "            # Check if the element is text element\n",
        "            if isinstance(element, LTTextContainer):\n",
        "                # Use the function to extract the text for each text element\n",
        "                line_text = element.get_text()\n",
        "                pdf_text.append(line_text)\n",
        "    return pdf_text"
      ]
    },
    {
      "cell_type": "code",
      "execution_count": 22,
      "metadata": {
        "id": "BsT56XLWtpJg"
      },
      "outputs": [],
      "source": [
        "def read_document(file_path):\n",
        "    \"\"\"\n",
        "    Iam Assuming That csv or xlsx Has Column called Text contains paragraph\n",
        "    Row = 1 paragraph\n",
        "    \"\"\"\n",
        "\n",
        "    if file_path.endswith('.csv'):\n",
        "        return  pd.read_csv(file_path)\n",
        "\n",
        "    elif file_path.endswith('.xlsx'):\n",
        "        return  pd.read_excel(file_path)\n",
        "\n",
        "    elif file_path.endswith('.txt'):\n",
        "        with open(file_path) as file:\n",
        "            file_text = file.read()\n",
        "        paragraphs = file_text.split('\\n\\n')\n",
        "        return pd.DataFrame(paragraphs, columns=['Text'])\n",
        "\n",
        "    elif file_path.endswith('.doc'):\n",
        "        doc = Document(file_path)\n",
        "        paragraphs = doc.paragraphs\n",
        "        paragraphs_as_strings = [p.text for p in paragraphs]\n",
        "        return  pd.DataFrame(paragraphs_as_strings, columns=['Text'])\n",
        "\n",
        "    elif file_path.endswith('.docx'):\n",
        "        doc = Document(file_path)\n",
        "        paragraphs = doc.paragraphs\n",
        "        paragraphs_as_strings = [p.text for p in paragraphs]\n",
        "        return  pd.DataFrame(paragraphs_as_strings, columns=['Text'])\n",
        "\n",
        "    elif file_path.endswith('.pdf'):\n",
        "        pdf_text = read_pdf(file_path)\n",
        "        return  pd.DataFrame(pdf_text, columns=['Text'])\n",
        "\n",
        "    else :\n",
        "        return None\n"
      ]
    },
    {
      "cell_type": "markdown",
      "metadata": {
        "id": "iQv3GE7Px7di"
      },
      "source": [
        "## Bert Paragraph-Based Retrieval"
      ]
    },
    {
      "cell_type": "code",
      "execution_count": 23,
      "metadata": {
        "id": "yRgN6JhWw3rD"
      },
      "outputs": [],
      "source": [
        "def retrieve_paragraphs_deep_learning(user_topic, paragraphs):\n",
        "    # Load pre-trained BERT model and tokenizer\n",
        "\n",
        "    tokenizer = BertTokenizer.from_pretrained('bert-base-uncased')\n",
        "    model = BertModel.from_pretrained('bert-base-uncased')\n",
        "\n",
        "    user_topic_embedding = model(**tokenizer(user_topic, return_tensors='pt', max_length=512, truncation=True))['last_hidden_state'][0]\n",
        "\n",
        "    document_embeddings = [model(**tokenizer(p, return_tensors='pt', max_length=512, truncation=True))['last_hidden_state'][0] for p in\n",
        "                           paragraphs]\n",
        "\n",
        "\n",
        "    similarities = []\n",
        "\n",
        "    similarities = [\n",
        "    cosine_similarity(user_topic_embedding.detach().numpy(), sentence_embedding.detach().numpy())[0][0].item() for\n",
        "    sentence_embedding in document_embeddings]\n",
        "\n",
        "    relevant_paragraphs = []\n",
        "\n",
        "    for idx, similarity in enumerate(similarities):\n",
        "        if similarity > 0.55:  # Adjust the similarity threshold as needed\n",
        "            relevant_paragraphs.append(paragraphs[idx])\n",
        "\n",
        "    return relevant_paragraphs\n",
        "\n",
        "\n",
        "\n"
      ]
    },
    {
      "cell_type": "markdown",
      "metadata": {
        "id": "8amOBm6RxZTj"
      },
      "source": [
        "## Generating Headlines"
      ]
    },
    {
      "cell_type": "code",
      "execution_count": 48,
      "metadata": {
        "id": "Qn3tZ1F5xL7s"
      },
      "outputs": [],
      "source": [
        "def headline_generator(relevant_paragraphs):\n",
        "\n",
        "    client = openai.Client()\n",
        "\n",
        "    paragraphs = []\n",
        "    headlines = []\n",
        "\n",
        "    # Define your prompt (the paragraph)\n",
        "    for paragraph in relevant_paragraphs:\n",
        "        response = client.chat.completions.create(\n",
        "            model=\"gpt-3.5-turbo\",\n",
        "            messages=[\n",
        "                {\n",
        "                  \"role\": \"system\",\n",
        "                  \"content\": \"Craft a reflective Headline that highlights the broader significance of the upcoming paargraph.\"\n",
        "                },\n",
        "                {\n",
        "                    \"role\": \"user\",\n",
        "                    \"content\": paragraph\n",
        "                }\n",
        "            ],\n",
        "            temperature=0.8,\n",
        "            max_tokens=32,\n",
        "            top_p=0.8\n",
        "        )\n",
        "        assistant_response = response.choices[0].message.content\n",
        "        paragraphs.append(f'Paragraph: {paragraph}')\n",
        "        headlines.append(f'Headline: {assistant_response}')\n",
        "        # Rate limit reached for gpt-3.5-turbo then iam delaying the request\n",
        "        time.sleep(20)\n",
        "\n",
        "    return paragraphs, headlines\n"
      ]
    },
    {
      "cell_type": "markdown",
      "metadata": {
        "id": "Ly13F3YO4J2W"
      },
      "source": [
        "## Main Flow"
      ]
    },
    {
      "cell_type": "code",
      "execution_count": 49,
      "metadata": {
        "id": "chGp_urVt3sh"
      },
      "outputs": [],
      "source": [
        "df =  pd.read_csv(\"/content/BBC News Train.csv\")"
      ]
    },
    {
      "cell_type": "code",
      "execution_count": 50,
      "metadata": {
        "colab": {
          "base_uri": "https://localhost:8080/",
          "height": 112
        },
        "id": "myMMYW7uwmXU",
        "outputId": "07499618-1573-4b14-8168-b022365d247d"
      },
      "outputs": [
        {
          "data": {
            "text/html": [
              "\n",
              "  <div id=\"df-3171bb5e-167b-42ef-8187-698a4dbacb0a\" class=\"colab-df-container\">\n",
              "    <div>\n",
              "<style scoped>\n",
              "    .dataframe tbody tr th:only-of-type {\n",
              "        vertical-align: middle;\n",
              "    }\n",
              "\n",
              "    .dataframe tbody tr th {\n",
              "        vertical-align: top;\n",
              "    }\n",
              "\n",
              "    .dataframe thead th {\n",
              "        text-align: right;\n",
              "    }\n",
              "</style>\n",
              "<table border=\"1\" class=\"dataframe\">\n",
              "  <thead>\n",
              "    <tr style=\"text-align: right;\">\n",
              "      <th></th>\n",
              "      <th>ArticleId</th>\n",
              "      <th>Text</th>\n",
              "      <th>Category</th>\n",
              "    </tr>\n",
              "  </thead>\n",
              "  <tbody>\n",
              "    <tr>\n",
              "      <th>0</th>\n",
              "      <td>1833</td>\n",
              "      <td>worldcom ex-boss launches defence lawyers defe...</td>\n",
              "      <td>business</td>\n",
              "    </tr>\n",
              "    <tr>\n",
              "      <th>1</th>\n",
              "      <td>154</td>\n",
              "      <td>german business confidence slides german busin...</td>\n",
              "      <td>business</td>\n",
              "    </tr>\n",
              "  </tbody>\n",
              "</table>\n",
              "</div>\n",
              "    <div class=\"colab-df-buttons\">\n",
              "\n",
              "  <div class=\"colab-df-container\">\n",
              "    <button class=\"colab-df-convert\" onclick=\"convertToInteractive('df-3171bb5e-167b-42ef-8187-698a4dbacb0a')\"\n",
              "            title=\"Convert this dataframe to an interactive table.\"\n",
              "            style=\"display:none;\">\n",
              "\n",
              "  <svg xmlns=\"http://www.w3.org/2000/svg\" height=\"24px\" viewBox=\"0 -960 960 960\">\n",
              "    <path d=\"M120-120v-720h720v720H120Zm60-500h600v-160H180v160Zm220 220h160v-160H400v160Zm0 220h160v-160H400v160ZM180-400h160v-160H180v160Zm440 0h160v-160H620v160ZM180-180h160v-160H180v160Zm440 0h160v-160H620v160Z\"/>\n",
              "  </svg>\n",
              "    </button>\n",
              "\n",
              "  <style>\n",
              "    .colab-df-container {\n",
              "      display:flex;\n",
              "      gap: 12px;\n",
              "    }\n",
              "\n",
              "    .colab-df-convert {\n",
              "      background-color: #E8F0FE;\n",
              "      border: none;\n",
              "      border-radius: 50%;\n",
              "      cursor: pointer;\n",
              "      display: none;\n",
              "      fill: #1967D2;\n",
              "      height: 32px;\n",
              "      padding: 0 0 0 0;\n",
              "      width: 32px;\n",
              "    }\n",
              "\n",
              "    .colab-df-convert:hover {\n",
              "      background-color: #E2EBFA;\n",
              "      box-shadow: 0px 1px 2px rgba(60, 64, 67, 0.3), 0px 1px 3px 1px rgba(60, 64, 67, 0.15);\n",
              "      fill: #174EA6;\n",
              "    }\n",
              "\n",
              "    .colab-df-buttons div {\n",
              "      margin-bottom: 4px;\n",
              "    }\n",
              "\n",
              "    [theme=dark] .colab-df-convert {\n",
              "      background-color: #3B4455;\n",
              "      fill: #D2E3FC;\n",
              "    }\n",
              "\n",
              "    [theme=dark] .colab-df-convert:hover {\n",
              "      background-color: #434B5C;\n",
              "      box-shadow: 0px 1px 3px 1px rgba(0, 0, 0, 0.15);\n",
              "      filter: drop-shadow(0px 1px 2px rgba(0, 0, 0, 0.3));\n",
              "      fill: #FFFFFF;\n",
              "    }\n",
              "  </style>\n",
              "\n",
              "    <script>\n",
              "      const buttonEl =\n",
              "        document.querySelector('#df-3171bb5e-167b-42ef-8187-698a4dbacb0a button.colab-df-convert');\n",
              "      buttonEl.style.display =\n",
              "        google.colab.kernel.accessAllowed ? 'block' : 'none';\n",
              "\n",
              "      async function convertToInteractive(key) {\n",
              "        const element = document.querySelector('#df-3171bb5e-167b-42ef-8187-698a4dbacb0a');\n",
              "        const dataTable =\n",
              "          await google.colab.kernel.invokeFunction('convertToInteractive',\n",
              "                                                    [key], {});\n",
              "        if (!dataTable) return;\n",
              "\n",
              "        const docLinkHtml = 'Like what you see? Visit the ' +\n",
              "          '<a target=\"_blank\" href=https://colab.research.google.com/notebooks/data_table.ipynb>data table notebook</a>'\n",
              "          + ' to learn more about interactive tables.';\n",
              "        element.innerHTML = '';\n",
              "        dataTable['output_type'] = 'display_data';\n",
              "        await google.colab.output.renderOutput(dataTable, element);\n",
              "        const docLink = document.createElement('div');\n",
              "        docLink.innerHTML = docLinkHtml;\n",
              "        element.appendChild(docLink);\n",
              "      }\n",
              "    </script>\n",
              "  </div>\n",
              "\n",
              "\n",
              "<div id=\"df-bb285219-b274-4cde-91ad-566585896b6c\">\n",
              "  <button class=\"colab-df-quickchart\" onclick=\"quickchart('df-bb285219-b274-4cde-91ad-566585896b6c')\"\n",
              "            title=\"Suggest charts\"\n",
              "            style=\"display:none;\">\n",
              "\n",
              "<svg xmlns=\"http://www.w3.org/2000/svg\" height=\"24px\"viewBox=\"0 0 24 24\"\n",
              "     width=\"24px\">\n",
              "    <g>\n",
              "        <path d=\"M19 3H5c-1.1 0-2 .9-2 2v14c0 1.1.9 2 2 2h14c1.1 0 2-.9 2-2V5c0-1.1-.9-2-2-2zM9 17H7v-7h2v7zm4 0h-2V7h2v10zm4 0h-2v-4h2v4z\"/>\n",
              "    </g>\n",
              "</svg>\n",
              "  </button>\n",
              "\n",
              "<style>\n",
              "  .colab-df-quickchart {\n",
              "      --bg-color: #E8F0FE;\n",
              "      --fill-color: #1967D2;\n",
              "      --hover-bg-color: #E2EBFA;\n",
              "      --hover-fill-color: #174EA6;\n",
              "      --disabled-fill-color: #AAA;\n",
              "      --disabled-bg-color: #DDD;\n",
              "  }\n",
              "\n",
              "  [theme=dark] .colab-df-quickchart {\n",
              "      --bg-color: #3B4455;\n",
              "      --fill-color: #D2E3FC;\n",
              "      --hover-bg-color: #434B5C;\n",
              "      --hover-fill-color: #FFFFFF;\n",
              "      --disabled-bg-color: #3B4455;\n",
              "      --disabled-fill-color: #666;\n",
              "  }\n",
              "\n",
              "  .colab-df-quickchart {\n",
              "    background-color: var(--bg-color);\n",
              "    border: none;\n",
              "    border-radius: 50%;\n",
              "    cursor: pointer;\n",
              "    display: none;\n",
              "    fill: var(--fill-color);\n",
              "    height: 32px;\n",
              "    padding: 0;\n",
              "    width: 32px;\n",
              "  }\n",
              "\n",
              "  .colab-df-quickchart:hover {\n",
              "    background-color: var(--hover-bg-color);\n",
              "    box-shadow: 0 1px 2px rgba(60, 64, 67, 0.3), 0 1px 3px 1px rgba(60, 64, 67, 0.15);\n",
              "    fill: var(--button-hover-fill-color);\n",
              "  }\n",
              "\n",
              "  .colab-df-quickchart-complete:disabled,\n",
              "  .colab-df-quickchart-complete:disabled:hover {\n",
              "    background-color: var(--disabled-bg-color);\n",
              "    fill: var(--disabled-fill-color);\n",
              "    box-shadow: none;\n",
              "  }\n",
              "\n",
              "  .colab-df-spinner {\n",
              "    border: 2px solid var(--fill-color);\n",
              "    border-color: transparent;\n",
              "    border-bottom-color: var(--fill-color);\n",
              "    animation:\n",
              "      spin 1s steps(1) infinite;\n",
              "  }\n",
              "\n",
              "  @keyframes spin {\n",
              "    0% {\n",
              "      border-color: transparent;\n",
              "      border-bottom-color: var(--fill-color);\n",
              "      border-left-color: var(--fill-color);\n",
              "    }\n",
              "    20% {\n",
              "      border-color: transparent;\n",
              "      border-left-color: var(--fill-color);\n",
              "      border-top-color: var(--fill-color);\n",
              "    }\n",
              "    30% {\n",
              "      border-color: transparent;\n",
              "      border-left-color: var(--fill-color);\n",
              "      border-top-color: var(--fill-color);\n",
              "      border-right-color: var(--fill-color);\n",
              "    }\n",
              "    40% {\n",
              "      border-color: transparent;\n",
              "      border-right-color: var(--fill-color);\n",
              "      border-top-color: var(--fill-color);\n",
              "    }\n",
              "    60% {\n",
              "      border-color: transparent;\n",
              "      border-right-color: var(--fill-color);\n",
              "    }\n",
              "    80% {\n",
              "      border-color: transparent;\n",
              "      border-right-color: var(--fill-color);\n",
              "      border-bottom-color: var(--fill-color);\n",
              "    }\n",
              "    90% {\n",
              "      border-color: transparent;\n",
              "      border-bottom-color: var(--fill-color);\n",
              "    }\n",
              "  }\n",
              "</style>\n",
              "\n",
              "  <script>\n",
              "    async function quickchart(key) {\n",
              "      const quickchartButtonEl =\n",
              "        document.querySelector('#' + key + ' button');\n",
              "      quickchartButtonEl.disabled = true;  // To prevent multiple clicks.\n",
              "      quickchartButtonEl.classList.add('colab-df-spinner');\n",
              "      try {\n",
              "        const charts = await google.colab.kernel.invokeFunction(\n",
              "            'suggestCharts', [key], {});\n",
              "      } catch (error) {\n",
              "        console.error('Error during call to suggestCharts:', error);\n",
              "      }\n",
              "      quickchartButtonEl.classList.remove('colab-df-spinner');\n",
              "      quickchartButtonEl.classList.add('colab-df-quickchart-complete');\n",
              "    }\n",
              "    (() => {\n",
              "      let quickchartButtonEl =\n",
              "        document.querySelector('#df-bb285219-b274-4cde-91ad-566585896b6c button');\n",
              "      quickchartButtonEl.style.display =\n",
              "        google.colab.kernel.accessAllowed ? 'block' : 'none';\n",
              "    })();\n",
              "  </script>\n",
              "</div>\n",
              "\n",
              "    </div>\n",
              "  </div>\n"
            ],
            "text/plain": [
              "   ArticleId                                               Text  Category\n",
              "0       1833  worldcom ex-boss launches defence lawyers defe...  business\n",
              "1        154  german business confidence slides german busin...  business"
            ]
          },
          "execution_count": 50,
          "metadata": {},
          "output_type": "execute_result"
        }
      ],
      "source": [
        "df.head(2)\n"
      ]
    },
    {
      "cell_type": "code",
      "execution_count": 51,
      "metadata": {
        "id": "FBMV5vm_wp-U"
      },
      "outputs": [],
      "source": [
        "document = df.Text[:10].to_list()\n",
        "specified_topic = \"Movie Director\""
      ]
    },
    {
      "cell_type": "code",
      "execution_count": 52,
      "metadata": {
        "id": "FdIiMyTSwvnA"
      },
      "outputs": [],
      "source": [
        "relevant_paragraphs  = retrieve_paragraphs_deep_learning(specified_topic, document)\n"
      ]
    },
    {
      "cell_type": "code",
      "execution_count": 53,
      "metadata": {
        "colab": {
          "base_uri": "https://localhost:8080/"
        },
        "id": "yYnNgI34xVjn",
        "outputId": "67f02962-b2cc-417e-e840-5772dd124951"
      },
      "outputs": [
        {
          "data": {
            "text/plain": [
              "4"
            ]
          },
          "execution_count": 53,
          "metadata": {},
          "output_type": "execute_result"
        }
      ],
      "source": [
        "len(relevant_paragraphs)"
      ]
    },
    {
      "cell_type": "code",
      "execution_count": 54,
      "metadata": {
        "id": "wNqxoJQJ4QU5"
      },
      "outputs": [],
      "source": [
        "relevant , headlines = headline_generator(relevant_paragraphs)"
      ]
    },
    {
      "cell_type": "markdown",
      "metadata": {
        "id": "li7YG2KI7L-_"
      },
      "source": [
        "### Printing Predicted Paragraphs and Predicted Headline"
      ]
    },
    {
      "cell_type": "code",
      "execution_count": 62,
      "metadata": {
        "colab": {
          "base_uri": "https://localhost:8080/"
        },
        "id": "vlF3nSGj4WAF",
        "outputId": "3e92c9d3-fc7d-423c-8279-0a99001ba7aa"
      },
      "outputs": [
        {
          "name": "stdout",
          "output_type": "stream",
          "text": [
            "\n",
            "===================================================\n",
            "\n",
            "Paragraph: 0\n",
            "\n",
            "Paragraph: worldcom ex-boss launches defence lawyers defending former worldcom chief bernie ebbers against a battery of fraud charges have called a company whistleblower as their first witness\n",
            "  cynthia cooper  worldcom s ex-head of internal accounting  alerted directors to irregular accounting practices at the us telecoms giant in 2002\n",
            " her warnings led to the collapse of the firm following the discovery of an $11bn (£5\n",
            "7bn) accounting fraud\n",
            " mr ebbers has pleaded not guilty to charges of fraud and conspiracy\n",
            "  prosecution lawyers have argued that mr ebbers orchestrated a series of accounting tricks at worldcom  ordering employees to hide expenses and inflate revenues to meet wall street earnings estimates\n",
            " but ms cooper  who now runs her own consulting business  told a jury in new york on wednesday that external auditors arthur andersen had approved worldcom s accounting in early 2001 and 2002\n",
            " she said andersen had given a  green light  to the procedures and practices used by worldcom\n",
            " mr ebber s lawyers have said he was unaware of the fraud  arguing that auditors did not alert him to any problems\n",
            "  ms cooper also said that during shareholder meetings mr ebbers often passed over technical questions to the company s finance chief  giving only  brief  answers himself\n",
            " the prosecution s star witness  former worldcom financial chief scott sullivan  has said that mr ebbers ordered accounting adjustments at the firm  telling him to  hit our books \n",
            " however  ms cooper said mr sullivan had not mentioned  anything uncomfortable  about worldcom s accounting during a 2001 audit committee meeting\n",
            " mr ebbers could face a jail sentence of 85 years if convicted of all the charges he is facing\n",
            " worldcom emerged from bankruptcy protection in 2004  and is now known as mci\n",
            " last week  mci agreed to a buyout by verizon communications in a deal valued at $6\n",
            "75bn\n",
            "\n",
            "\n",
            "\n",
            "Headline: Former WorldCom CEO Bernie Ebbers' defense calls whistleblower Cynthia Cooper as first witness in fraud trial\n",
            "\n",
            "===================================================\n",
            "\n",
            "Paragraph: 1\n",
            "\n",
            "Paragraph: french honour for director parker british film director sir alan parker has been made an officer in the order of arts and letters  one of france s highest cultural honours\n",
            "  sir alan received his decoration in paris on wednesday from french culture minister renaud donnedieu de vabres\n",
            "  you have explored the possibilities of film with an immense talent   mr de vabres said as he presented the award\n",
            " parker praised french films  saying:  hollywood  which created modern cinema  uses it only as a commodity\n",
            "  he told the minister:  i am honoured to be thus distinguished by france  the flag carrier of cinema throughout the world\n",
            "  sir alan s films include oscar-winning fame plus midnight express and the commitments\n",
            "  a founding member of the director s guild of great britain  he is a former chairman of the uk film council and on the board of the british film institute\n",
            "  through your work and your campaigns  you have shown us how the artist occupies an essential place in our contemporary society   mr de vabres said\n",
            "  through your dreams which you show us  through the links that you weave  you question the world through the mirror of your work\n",
            "  he also cited the director s 2003 film the life of david gale  in which kevin spacey played a man on death row  as proof of his  veritable artistic commitment against the death sentence \n",
            "\n",
            "\n",
            "\n",
            "Headline: British Director Sir Alan Parker Honored by France for Contributions to Cinema and Social Activism\n",
            "\n",
            "===================================================\n",
            "\n",
            "Paragraph: 2\n",
            "\n",
            "Paragraph: car giant hit by mercedes slump a slump in profitability at luxury car maker mercedes has prompted a big drop in profits at parent daimlerchrysler\n",
            "  the german-us carmaker saw fourth quarter operating profits fall to 785m euros ($1bn) from 2\n",
            "4bn euros in 2003\n",
            " mercedes-benz s woes - its profits slid to just 20m euros - obscured a strong performance from the chrysler group whose returns met market expectations\n",
            " mercedes faces fierce competition in the luxury car sector from bmw and but hopes to revive its fortunes by 2006\n",
            "  mercedes  profits over the period compared unfavourably with 2003 s 784m euro figure and were well below analyst expectations of 374m euros\n",
            " for the year as a whole  its operating profits fell 46% to 1\n",
            "6bn euros\n",
            " sales of mercedes  brands fell 2% as demand cooled  while revenues were affected by the weakness of the us dollar\n",
            "  the carmaker blamed the fall in profits on high launch costs for new models and losses from its mercedes smart mini-car range\n",
            " mercedes is hoping to increase productivity by 3bn euros  having negotiated 500m euros in annual savings with german workers last year\n",
            " the firm said it was determined to retain mercedes  position as the world s most successful luxury brand\n",
            " however  daimlerchrysler s shares fell 1\n",
            "5% on the news\n",
            "  while all these divisions are doing well the big worries continue to surround mercedes-benz   michael rabb  an analyst with bank sal oppenheim  told reuters\n",
            "  in contrast  chrysler enjoyed a 5% annual increase in unit sales while revenues - calculated in us dollars - rose 10%\n",
            " the us division - whose marques include dodge and jeep - transformed a full year operating loss of 506m euros in 2003 into a 1\n",
            "4bn euros profit last year\n",
            "  overall  daimlerchrysler saw worldwide vehicle sales rise 8% to 4\n",
            "7 million in 2004 while total revenues added 4% to 142bn euros\n",
            " chrysler s strong performance helped the world s fifth largest carmaker boost net income by 400m euros to 2\n",
            "5bn euros\n",
            "   the year 2004 shows that our strategy works well - even in such a challenging competitive environment   said jurgen schrempp  daimlerchrysler s chairman\n",
            " daimlerchrysler took a 475m euro hit in costs stemming from a defects scandal at its joint venture  japanese subsidiary fuso\n",
            " daimlerchrysler last week agreed a compensation package with partner mitsubishi motors which will see it buy out its stake in fuso\n",
            " looking forward  daimerchrysler s profits are expected to be slightly higher in 2005\n",
            " however  it is expecting  significant improvements  in profitability in 2006 as a result of a major investment in the mercedes product range\n",
            "\n",
            "\n",
            "\n",
            "Headline: Mercedes Slump Impacts DaimlerChrysler Profits, Highlights Need for Revival in Luxury Car Sector\n",
            "\n",
            "===================================================\n",
            "\n",
            "Paragraph: 3\n",
            "\n",
            "Paragraph: fockers fuel festive film chart comedy meet the fockers topped the festive box office in north america  setting a new record for christmas day\n",
            "  the sequel took $44\n",
            "7m (£23\n",
            "2m) between 24 and 26 december  according to studio estimates\n",
            " it took $19\n",
            "1m (£9\n",
            "9m) on christmas day alone  the highest takings on that day in box office history\n",
            " meet the fockers is the sequel to ben stiller comedy meet the parents  also starring robert de niro  blythe danner  dustin hoffman and barbra streisand\n",
            " despite the success of meet the fockers  takings were down 26\n",
            "5% on 2003 s figures - which was blamed on christmas falling over a weekend this year\n",
            "   when christmas falls on a weekend  it s bad for business   said paul dergarabedian  president of exhibitor relations  which compiles box office statistics\n",
            " the weekend s top 12 films took an estimated $121\n",
            "9m (£63\n",
            "3m)  compared with $165\n",
            "8m (£86\n",
            "1m) last year  when the third lord of the rings film dominated the box office\n",
            " meet the fockers knocked last week s top film  lemony snicket s a series of unfortunate events  down to third place  with $12\n",
            "5m (£6\n",
            "5m)\n",
            " comedy fat albert - co-written by bill cosby - entered the chart in second place after opening on christmas day  taking $12\n",
            "7m (£6\n",
            "6m)\n",
            " the aviator  starring leonardo dicaprio as howard hughes  took $9\n",
            "4m after expanding from 40 to 1 796 cinemas on christmas day\n",
            "\n",
            "\n",
            "\n",
            "Headline: \"Meet the Fockers Shatters Christmas Day Box Office Records, Despite Overall Decline in Holiday Takings\"\n"
          ]
        }
      ],
      "source": [
        "for idx , (paragraph , headline) in enumerate(zip(relevant, headlines)):\n",
        "  print(f'\\n===================================================\\n')\n",
        "  print(f\"Paragraph: {idx}\\n\")\n",
        "  print(paragraph.replace(\".\",\"\\n\"))\n",
        "  print(\"\\n\")\n",
        "  print(headline)\n"
      ]
    }
  ],
  "metadata": {
    "accelerator": "GPU",
    "colab": {
      "gpuType": "T4",
      "provenance": []
    },
    "kernelspec": {
      "display_name": "Python 3",
      "name": "python3"
    },
    "language_info": {
      "name": "python"
    }
  },
  "nbformat": 4,
  "nbformat_minor": 0
}
