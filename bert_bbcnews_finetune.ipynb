{
  "metadata": {
    "kernelspec": {
      "display_name": "Python 3",
      "name": "python3"
    },
    "language_info": {
      "name": "python",
      "version": "3.10.10",
      "mimetype": "text/x-python",
      "codemirror_mode": {
        "name": "ipython",
        "version": 3
      },
      "pygments_lexer": "ipython3",
      "nbconvert_exporter": "python",
      "file_extension": ".py"
    },
    "kaggle": {
      "accelerator": "gpu",
      "dataSources": [
        {
          "sourceId": 530389,
          "sourceType": "datasetVersion",
          "datasetId": 252277
        }
      ],
      "dockerImageVersionId": 30498,
      "isInternetEnabled": true,
      "language": "python",
      "sourceType": "notebook",
      "isGpuEnabled": true
    },
    "colab": {
      "provenance": [],
      "gpuType": "T4"
    },
    "accelerator": "GPU"
  },
  "nbformat_minor": 0,
  "nbformat": 4,
  "cells": [
    {
      "cell_type": "code",
      "source": [
        "import numpy as np # linear algebra\n",
        "import pandas as pd # data processing, CSV file I/O (e.g. pd.read_csv)\n",
        "from sklearn.model_selection import train_test_split\n",
        "from transformers import BertTokenizer, BertModel, AutoTokenizer\n",
        "from torch import nn\n",
        "import torch\n",
        "from torch.optim import Adam\n",
        "from tqdm import tqdm\n",
        "import nltk\n",
        "from nltk.tokenize import sent_tokenize\n",
        "from transformers import BertTokenizer, BertModel\n",
        "from sklearn.metrics.pairwise import cosine_similarity\n",
        "nltk.download('punkt')  # Download the Punkt tokenizer for sentence splitting\n"
      ],
      "metadata": {
        "_uuid": "8f2839f25d086af736a60e9eeb907d3b93b6e0e5",
        "_cell_guid": "b1076dfc-b9ad-4769-8c92-a6c4dae69d19",
        "execution": {
          "iopub.status.busy": "2023-06-14T11:43:54.408254Z",
          "iopub.execute_input": "2023-06-14T11:43:54.408653Z",
          "iopub.status.idle": "2023-06-14T11:44:07.130722Z",
          "shell.execute_reply.started": "2023-06-14T11:43:54.408614Z",
          "shell.execute_reply": "2023-06-14T11:44:07.129816Z"
        },
        "trusted": true,
        "id": "IXLXINXRXShf",
        "colab": {
          "base_uri": "https://localhost:8080/"
        },
        "outputId": "0b2ef100-2fc3-495d-f8a6-86203070673d"
      },
      "execution_count": 41,
      "outputs": [
        {
          "output_type": "stream",
          "name": "stderr",
          "text": [
            "[nltk_data] Downloading package punkt to /root/nltk_data...\n",
            "[nltk_data]   Package punkt is already up-to-date!\n"
          ]
        },
        {
          "output_type": "execute_result",
          "data": {
            "text/plain": [
              "True"
            ]
          },
          "metadata": {},
          "execution_count": 41
        }
      ]
    },
    {
      "cell_type": "code",
      "source": [
        "dataset = pd.read_csv('/content/BBC News Train.csv')"
      ],
      "metadata": {
        "execution": {
          "iopub.status.busy": "2023-06-14T11:44:07.131937Z",
          "iopub.execute_input": "2023-06-14T11:44:07.134206Z",
          "iopub.status.idle": "2023-06-14T11:44:07.314193Z",
          "shell.execute_reply.started": "2023-06-14T11:44:07.134173Z",
          "shell.execute_reply": "2023-06-14T11:44:07.313242Z"
        },
        "trusted": true,
        "id": "aaK9GAb_XShg"
      },
      "execution_count": 42,
      "outputs": []
    },
    {
      "cell_type": "code",
      "source": [
        "dataset.head()\n",
        "tokenizer = BertTokenizer.from_pretrained('bert-base-cased')\n",
        "labels = {'business':0,\n",
        "          'entertainment':1,\n",
        "          'sport':2,\n",
        "          'tech':3,\n",
        "          'politics':4\n",
        "          }"
      ],
      "metadata": {
        "execution": {
          "iopub.status.busy": "2023-06-14T11:44:07.316877Z",
          "iopub.execute_input": "2023-06-14T11:44:07.317230Z",
          "iopub.status.idle": "2023-06-14T11:44:07.333432Z",
          "shell.execute_reply.started": "2023-06-14T11:44:07.317199Z",
          "shell.execute_reply": "2023-06-14T11:44:07.332294Z"
        },
        "trusted": true,
        "id": "rcWRS3cyXShg"
      },
      "execution_count": 43,
      "outputs": []
    },
    {
      "cell_type": "code",
      "source": [
        "dataset.groupby(['Category']).size().plot.bar(figsize = (5, 2))"
      ],
      "metadata": {
        "execution": {
          "iopub.status.busy": "2023-06-14T11:44:07.335487Z",
          "iopub.execute_input": "2023-06-14T11:44:07.335895Z",
          "iopub.status.idle": "2023-06-14T11:44:07.610480Z",
          "shell.execute_reply.started": "2023-06-14T11:44:07.335860Z",
          "shell.execute_reply": "2023-06-14T11:44:07.609457Z"
        },
        "trusted": true,
        "colab": {
          "base_uri": "https://localhost:8080/",
          "height": 337
        },
        "id": "JWavKSskXShg",
        "outputId": "b35f55cf-c760-46b6-e724-60a0f390e863"
      },
      "execution_count": 44,
      "outputs": [
        {
          "output_type": "execute_result",
          "data": {
            "text/plain": [
              "<Axes: xlabel='Category'>"
            ]
          },
          "metadata": {},
          "execution_count": 44
        },
        {
          "output_type": "display_data",
          "data": {
            "text/plain": [
              "<Figure size 500x200 with 1 Axes>"
            ],
            "image/png": "[encoded data removed]"
          },
          "metadata": {}
        }
      ]
    },
    {
      "cell_type": "code",
      "source": [
        "class BBC_Dataset(torch.utils.data.Dataset):\n",
        "    def __init__(self, df, target):\n",
        "\n",
        "        self.labels = [labels[label] for label in target]\n",
        "        self.texts = [tokenizer(text,\n",
        "                               padding='max_length', max_length = 512, truncation=True,\n",
        "                                return_tensors=\"pt\") for text in df]\n",
        "\n",
        "    def __len__(self):\n",
        "        return len(self.labels)\n",
        "\n",
        "    def __getitem__(self, idx):\n",
        "        return self.texts[idx], self.labels[idx]"
      ],
      "metadata": {
        "execution": {
          "iopub.status.busy": "2023-06-14T11:44:11.192817Z",
          "iopub.execute_input": "2023-06-14T11:44:11.193238Z",
          "iopub.status.idle": "2023-06-14T11:44:11.200242Z",
          "shell.execute_reply.started": "2023-06-14T11:44:11.193205Z",
          "shell.execute_reply": "2023-06-14T11:44:11.199386Z"
        },
        "trusted": true,
        "id": "uLtsezURXShh"
      },
      "execution_count": 45,
      "outputs": []
    },
    {
      "cell_type": "code",
      "source": [
        "class BertClassifier(nn.Module):\n",
        "\n",
        "    def __init__(self, dropout=0.5):\n",
        "\n",
        "        super(BertClassifier, self).__init__()\n",
        "\n",
        "        self.bert = BertModel.from_pretrained('bert-base-cased')\n",
        "        self.dropout = nn.Dropout(dropout)\n",
        "        self.linear = nn.Linear(768, 5)\n",
        "        self.softmax = nn.Softmax()\n",
        "\n",
        "    def forward(self, input_id, mask):\n",
        "\n",
        "        _, pooled_output = self.bert(input_ids= input_id, attention_mask=mask,return_dict=False)\n",
        "        dropout_output = self.dropout(pooled_output)\n",
        "        linear_output = self.linear(dropout_output)\n",
        "        final_layer = self.softmax(linear_output)\n",
        "\n",
        "        return final_layer"
      ],
      "metadata": {
        "execution": {
          "iopub.status.busy": "2023-06-14T11:44:11.201399Z",
          "iopub.execute_input": "2023-06-14T11:44:11.202262Z",
          "iopub.status.idle": "2023-06-14T11:44:11.215269Z",
          "shell.execute_reply.started": "2023-06-14T11:44:11.202231Z",
          "shell.execute_reply": "2023-06-14T11:44:11.214362Z"
        },
        "trusted": true,
        "id": "q4MbAPJoXShh"
      },
      "execution_count": 46,
      "outputs": []
    },
    {
      "cell_type": "code",
      "source": [
        "x_train, x_test, y_train, y_test = train_test_split(dataset['Text'], dataset['Category'], test_size=0.2, random_state=42)"
      ],
      "metadata": {
        "execution": {
          "iopub.status.busy": "2023-06-14T11:44:11.216462Z",
          "iopub.execute_input": "2023-06-14T11:44:11.216890Z",
          "iopub.status.idle": "2023-06-14T11:44:11.228658Z",
          "shell.execute_reply.started": "2023-06-14T11:44:11.216860Z",
          "shell.execute_reply": "2023-06-14T11:44:11.227788Z"
        },
        "trusted": true,
        "id": "xFbdcEMgXShh"
      },
      "execution_count": 47,
      "outputs": []
    },
    {
      "cell_type": "code",
      "source": [
        "x_train, x_val, y_train, y_val = train_test_split(x_train, y_train, test_size=0.2, random_state=42)"
      ],
      "metadata": {
        "execution": {
          "iopub.status.busy": "2023-06-14T11:44:11.232667Z",
          "iopub.execute_input": "2023-06-14T11:44:11.232925Z",
          "iopub.status.idle": "2023-06-14T11:44:11.239487Z",
          "shell.execute_reply.started": "2023-06-14T11:44:11.232904Z",
          "shell.execute_reply": "2023-06-14T11:44:11.238619Z"
        },
        "trusted": true,
        "id": "QfLjlJK3XShh"
      },
      "execution_count": 48,
      "outputs": []
    },
    {
      "cell_type": "code",
      "source": [
        "x_train, x_val, x_test = BBC_Dataset(x_train, y_train), BBC_Dataset(x_val, y_val), BBC_Dataset(x_test, y_test)\n",
        "train_dataloader = torch.utils.data.DataLoader(x_train, batch_size=2, shuffle=True)\n",
        "val_dataloader = torch.utils.data.DataLoader(x_val, batch_size=2)\n",
        "test_dataloader = torch.utils.data.DataLoader(x_test, batch_size=2)"
      ],
      "metadata": {
        "execution": {
          "iopub.status.busy": "2023-06-14T11:44:11.240778Z",
          "iopub.execute_input": "2023-06-14T11:44:11.241212Z",
          "iopub.status.idle": "2023-06-14T11:44:38.366591Z",
          "shell.execute_reply.started": "2023-06-14T11:44:11.241158Z",
          "shell.execute_reply": "2023-06-14T11:44:38.365620Z"
        },
        "trusted": true,
        "id": "vJfhsaljXShi"
      },
      "execution_count": 49,
      "outputs": []
    },
    {
      "cell_type": "code",
      "source": [
        "epochs = 10\n",
        "model = BertClassifier()\n",
        "learning_rate = 1e-6"
      ],
      "metadata": {
        "execution": {
          "iopub.status.busy": "2023-06-14T11:44:38.367784Z",
          "iopub.execute_input": "2023-06-14T11:44:38.368119Z",
          "iopub.status.idle": "2023-06-14T11:44:42.093138Z",
          "shell.execute_reply.started": "2023-06-14T11:44:38.368086Z",
          "shell.execute_reply": "2023-06-14T11:44:42.092299Z"
        },
        "trusted": true,
        "id": "PP-jkw2UXShi"
      },
      "execution_count": 50,
      "outputs": []
    },
    {
      "cell_type": "code",
      "source": [
        "use_cuda = torch.cuda.is_available()\n",
        "device = torch.device(\"cuda\" if use_cuda else \"cpu\")\n",
        "\n",
        "criterion = torch.nn.CrossEntropyLoss()\n",
        "optimizer = torch.optim.Adam(model.parameters(), lr= learning_rate,  weight_decay=1e-5)\n",
        "\n",
        "if use_cuda:\n",
        "        model = model.cuda()\n",
        "        criterion = criterion.cuda()\n",
        "\n",
        "train_loss = []\n",
        "val_loss = []\n",
        "for epoch_num in range(epochs):\n",
        "\n",
        "        total_acc_train = 0\n",
        "        total_loss_train = 0\n",
        "\n",
        "        for train_input, train_label in tqdm(train_dataloader):\n",
        "\n",
        "            train_label = train_label.to(device)\n",
        "            mask = train_input['attention_mask'].to(device)\n",
        "            input_id = train_input['input_ids'].squeeze(1).to(device)\n",
        "\n",
        "            output = model(input_id, mask)\n",
        "\n",
        "            batch_loss = criterion(output, train_label)\n",
        "            total_loss_train += batch_loss.item()\n",
        "\n",
        "            acc = (output.argmax(dim=1) == train_label).sum().item() - 1\n",
        "            total_acc_train += acc\n",
        "\n",
        "            model.zero_grad()\n",
        "            batch_loss.backward()\n",
        "            optimizer.step()\n",
        "\n",
        "        # now we evaluate on the validation data\n",
        "        train_loss.append(total_loss_train)\n",
        "        total_acc_val = 0\n",
        "        total_loss_val = 0\n",
        "        print(total_acc_train)\n",
        "        with torch.no_grad():\n",
        "\n",
        "            for val_input, val_label in val_dataloader:\n",
        "\n",
        "                val_label = val_label.to(device)\n",
        "                mask = val_input['attention_mask'].to(device)\n",
        "                input_id = val_input['input_ids'].squeeze(1).to(device)\n",
        "\n",
        "                output = model(input_id, mask)\n",
        "\n",
        "                batch_loss = criterion(output, val_label)\n",
        "                total_loss_val += batch_loss.item()\n",
        "\n",
        "                acc = (output.argmax(dim=1) == val_label).sum().item() - 1\n",
        "                total_acc_val += acc\n",
        "        val_loss.append(total_loss_val)\n",
        "        print(\n",
        "            f'Epochs: {epoch_num + 1} | Train Loss: {total_loss_train / len(train_dataloader): .3f} \\\n",
        "            | Train Accuracy: {total_acc_train / len(train_dataloader): .3f} \\\n",
        "            | Val Loss: {total_loss_val / len(val_dataloader): .3f} \\\n",
        "            | Val Accuracy: {total_acc_val / len(val_dataloader): .3f}')"
      ],
      "metadata": {
        "execution": {
          "iopub.status.busy": "2023-06-14T12:19:46.291681Z",
          "iopub.execute_input": "2023-06-14T12:19:46.292365Z",
          "iopub.status.idle": "2023-06-14T12:36:20.985277Z",
          "shell.execute_reply.started": "2023-06-14T12:19:46.292332Z",
          "shell.execute_reply": "2023-06-14T12:36:20.983437Z"
        },
        "trusted": true,
        "colab": {
          "base_uri": "https://localhost:8080/"
        },
        "id": "eXiZMJpDXShi",
        "outputId": "4ad3ca95-72bb-4cb0-ded9-af46479f66cb"
      },
      "execution_count": 51,
      "outputs": [
        {
          "output_type": "stream",
          "name": "stderr",
          "text": [
            "  0%|          | 0/477 [00:00<?, ?it/s]/usr/local/lib/python3.10/dist-packages/torch/nn/modules/module.py:1518: UserWarning: Implicit dimension choice for softmax has been deprecated. Change the call to include dim=X as an argument.\n",
            "  return self._call_impl(*args, **kwargs)\n",
            "100%|██████████| 477/477 [01:45<00:00,  4.50it/s]\n"
          ]
        },
        {
          "output_type": "stream",
          "name": "stdout",
          "text": [
            "-196\n",
            "Epochs: 1 | Train Loss:  1.586             | Train Accuracy: -0.411             | Val Loss:  1.541             | Val Accuracy: -0.100\n"
          ]
        },
        {
          "output_type": "stream",
          "name": "stderr",
          "text": [
            "100%|██████████| 477/477 [01:45<00:00,  4.50it/s]\n"
          ]
        },
        {
          "output_type": "stream",
          "name": "stdout",
          "text": [
            "98\n",
            "Epochs: 2 | Train Loss:  1.467             | Train Accuracy:  0.205             | Val Loss:  1.349             | Val Accuracy:  0.583\n"
          ]
        },
        {
          "output_type": "stream",
          "name": "stderr",
          "text": [
            "100%|██████████| 477/477 [01:45<00:00,  4.50it/s]\n"
          ]
        },
        {
          "output_type": "stream",
          "name": "stdout",
          "text": [
            "371\n",
            "Epochs: 3 | Train Loss:  1.233             | Train Accuracy:  0.778             | Val Loss:  1.133             | Val Accuracy:  0.883\n"
          ]
        },
        {
          "output_type": "stream",
          "name": "stderr",
          "text": [
            "100%|██████████| 477/477 [01:45<00:00,  4.51it/s]\n"
          ]
        },
        {
          "output_type": "stream",
          "name": "stdout",
          "text": [
            "446\n",
            "Epochs: 4 | Train Loss:  1.084             | Train Accuracy:  0.935             | Val Loss:  1.032             | Val Accuracy:  0.967\n"
          ]
        },
        {
          "output_type": "stream",
          "name": "stderr",
          "text": [
            "100%|██████████| 477/477 [01:45<00:00,  4.50it/s]\n"
          ]
        },
        {
          "output_type": "stream",
          "name": "stdout",
          "text": [
            "461\n",
            "Epochs: 5 | Train Loss:  1.007             | Train Accuracy:  0.966             | Val Loss:  0.982             | Val Accuracy:  0.983\n"
          ]
        },
        {
          "output_type": "stream",
          "name": "stderr",
          "text": [
            "100%|██████████| 477/477 [01:45<00:00,  4.51it/s]\n"
          ]
        },
        {
          "output_type": "stream",
          "name": "stdout",
          "text": [
            "464\n",
            "Epochs: 6 | Train Loss:  0.969             | Train Accuracy:  0.973             | Val Loss:  0.954             | Val Accuracy:  0.992\n"
          ]
        },
        {
          "output_type": "stream",
          "name": "stderr",
          "text": [
            "100%|██████████| 477/477 [01:45<00:00,  4.52it/s]\n"
          ]
        },
        {
          "output_type": "stream",
          "name": "stdout",
          "text": [
            "467\n",
            "Epochs: 7 | Train Loss:  0.947             | Train Accuracy:  0.979             | Val Loss:  0.939             | Val Accuracy:  0.992\n"
          ]
        },
        {
          "output_type": "stream",
          "name": "stderr",
          "text": [
            "100%|██████████| 477/477 [01:45<00:00,  4.51it/s]\n"
          ]
        },
        {
          "output_type": "stream",
          "name": "stdout",
          "text": [
            "471\n",
            "Epochs: 8 | Train Loss:  0.932             | Train Accuracy:  0.987             | Val Loss:  0.931             | Val Accuracy:  0.992\n"
          ]
        },
        {
          "output_type": "stream",
          "name": "stderr",
          "text": [
            "100%|██████████| 477/477 [01:45<00:00,  4.51it/s]\n"
          ]
        },
        {
          "output_type": "stream",
          "name": "stdout",
          "text": [
            "472\n",
            "Epochs: 9 | Train Loss:  0.926             | Train Accuracy:  0.990             | Val Loss:  0.927             | Val Accuracy:  0.983\n"
          ]
        },
        {
          "output_type": "stream",
          "name": "stderr",
          "text": [
            "100%|██████████| 477/477 [01:45<00:00,  4.50it/s]\n"
          ]
        },
        {
          "output_type": "stream",
          "name": "stdout",
          "text": [
            "473\n",
            "Epochs: 10 | Train Loss:  0.921             | Train Accuracy:  0.992             | Val Loss:  0.922             | Val Accuracy:  0.983\n"
          ]
        }
      ]
    },
    {
      "cell_type": "code",
      "source": [
        "from matplotlib import pyplot as plt\n",
        "plt.plot(train_loss, label='train_loss')\n",
        "plt.plot(val_loss,label='val_loss')\n",
        "plt.legend()\n",
        "plt.show"
      ],
      "metadata": {
        "execution": {
          "iopub.status.busy": "2023-06-14T12:36:20.987174Z",
          "iopub.execute_input": "2023-06-14T12:36:20.987808Z",
          "iopub.status.idle": "2023-06-14T12:36:21.252375Z",
          "shell.execute_reply.started": "2023-06-14T12:36:20.987773Z",
          "shell.execute_reply": "2023-06-14T12:36:21.251457Z"
        },
        "trusted": true,
        "colab": {
          "base_uri": "https://localhost:8080/",
          "height": 447
        },
        "id": "pPVPLik2XShi",
        "outputId": "5ef3e501-2fd6-4221-952c-0d406f1a03ce"
      },
      "execution_count": 52,
      "outputs": [
        {
          "output_type": "execute_result",
          "data": {
            "text/plain": [
              "<function matplotlib.pyplot.show(close=None, block=None)>"
            ]
          },
          "metadata": {},
          "execution_count": 52
        },
        {
          "output_type": "display_data",
          "data": {
            "text/plain": [
              "<Figure size 640x480 with 1 Axes>"
            ],
            "image/png": "[encoded data removed]"
          },
          "metadata": {}
        }
      ]
    },
    {
      "cell_type": "code",
      "source": [
        "test_acc = 0\n",
        "total_loss_test=0"
      ],
      "metadata": {
        "execution": {
          "iopub.status.busy": "2023-06-14T12:36:21.254003Z",
          "iopub.execute_input": "2023-06-14T12:36:21.254688Z",
          "iopub.status.idle": "2023-06-14T12:36:21.259194Z",
          "shell.execute_reply.started": "2023-06-14T12:36:21.254654Z",
          "shell.execute_reply": "2023-06-14T12:36:21.258206Z"
        },
        "trusted": true,
        "id": "0wEKWVBZXShj"
      },
      "execution_count": 53,
      "outputs": []
    },
    {
      "cell_type": "code",
      "source": [
        "for val_input, val_label in test_dataloader:\n",
        "\n",
        "    val_label = val_label.to(device)\n",
        "    mask = val_input['attention_mask'].to(device)\n",
        "    input_id = val_input['input_ids'].squeeze(1).to(device)\n",
        "\n",
        "    output = model(input_id, mask)\n",
        "\n",
        "    batch_loss = criterion(output, val_label)\n",
        "    total_loss_test += batch_loss.item()\n",
        "\n",
        "    acc = (output.argmax(dim=1) == val_label).sum().item() - 1\n",
        "    test_acc += acc"
      ],
      "metadata": {
        "execution": {
          "iopub.status.busy": "2023-06-14T12:36:21.261924Z",
          "iopub.execute_input": "2023-06-14T12:36:21.262270Z",
          "iopub.status.idle": "2023-06-14T12:36:29.820538Z",
          "shell.execute_reply.started": "2023-06-14T12:36:21.262239Z",
          "shell.execute_reply": "2023-06-14T12:36:29.819603Z"
        },
        "trusted": true,
        "id": "fpF5b0ANXShj"
      },
      "execution_count": 54,
      "outputs": []
    },
    {
      "cell_type": "code",
      "source": [
        "test_acc/len(test_dataloader)"
      ],
      "metadata": {
        "execution": {
          "iopub.status.busy": "2023-06-14T12:36:29.846528Z",
          "iopub.execute_input": "2023-06-14T12:36:29.846868Z",
          "iopub.status.idle": "2023-06-14T12:36:29.853362Z",
          "shell.execute_reply.started": "2023-06-14T12:36:29.846842Z",
          "shell.execute_reply": "2023-06-14T12:36:29.852337Z"
        },
        "trusted": true,
        "colab": {
          "base_uri": "https://localhost:8080/"
        },
        "id": "htzTUf1MXShj",
        "outputId": "95e80f1b-29dd-4eac-d08b-414ecc2d459f"
      },
      "execution_count": 55,
      "outputs": [
        {
          "output_type": "execute_result",
          "data": {
            "text/plain": [
              "0.9731543624161074"
            ]
          },
          "metadata": {},
          "execution_count": 55
        }
      ]
    },
    {
      "cell_type": "code",
      "source": [],
      "metadata": {
        "id": "sQ8Zw7fkXShj"
      },
      "execution_count": 55,
      "outputs": []
    },
    {
      "cell_type": "code",
      "source": [],
      "metadata": {
        "id": "6_6H5qqdXShj"
      },
      "execution_count": 55,
      "outputs": []
    },
    {
      "cell_type": "code",
      "source": [],
      "metadata": {
        "id": "yoyEistUXShj"
      },
      "execution_count": 55,
      "outputs": []
    }
  ]
}